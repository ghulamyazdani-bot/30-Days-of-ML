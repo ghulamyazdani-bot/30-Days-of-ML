{
  "nbformat": 4,
  "nbformat_minor": 0,
  "metadata": {
    "kernelspec": {
      "language": "python",
      "display_name": "Python 3",
      "name": "python3"
    },
    "language_info": {
      "pygments_lexer": "ipython3",
      "nbconvert_exporter": "python",
      "version": "3.6.4",
      "file_extension": ".py",
      "codemirror_mode": {
        "name": "ipython",
        "version": 3
      },
      "name": "python",
      "mimetype": "text/x-python"
    },
    "colab": {
      "name": "exercise-functions-and-getting-help.ipynb",
      "provenance": [],
      "toc_visible": true,
      "include_colab_link": true
    }
  },
  "cells": [
    {
      "cell_type": "markdown",
      "metadata": {
        "id": "view-in-github",
        "colab_type": "text"
      },
      "source": [
        "<a href=\"https://colab.research.google.com/github/nishant-rajput/30-Days-of-ML/blob/Day-3/Python_2tut.ipynb\" target=\"_parent\"><img src=\"https://colab.research.google.com/assets/colab-badge.svg\" alt=\"Open In Colab\"/></a>"
      ]
    },
    {
      "cell_type": "markdown",
      "metadata": {
        "id": "8Y1Dpt9FEl74"
      },
      "source": [
        "**This notebook is an exercise in the [Python](https://www.kaggle.com/learn/python) course.  You can reference the tutorial at [this link](https://www.kaggle.com/colinmorris/functions-and-getting-help).**\n",
        "\n",
        "---\n"
      ]
    },
    {
      "cell_type": "markdown",
      "metadata": {
        "id": "NNIa0V9WEl7-"
      },
      "source": [
        "Functions are powerful. Try writing some yourself.\n",
        "\n",
        "As before, don't forget to run the setup code below before jumping into question 1."
      ]
    },
    {
      "cell_type": "code",
      "metadata": {
        "_kg_hide-input": true,
        "_kg_hide-output": true,
        "execution": {
          "iopub.status.busy": "2021-08-04T18:13:57.949751Z",
          "iopub.execute_input": "2021-08-04T18:13:57.950289Z",
          "iopub.status.idle": "2021-08-04T18:13:57.963794Z",
          "shell.execute_reply.started": "2021-08-04T18:13:57.950258Z",
          "shell.execute_reply": "2021-08-04T18:13:57.96254Z"
        },
        "trusted": true,
        "id": "ZzFBNWruEl7_"
      },
      "source": [
        "# SETUP. You don't need to worry for now about what this code does or how it works.\n",
        "from learntools.core import binder; binder.bind(globals())\n",
        "from learntools.python.ex2 import *\n",
        "print('Setup complete.')"
      ],
      "execution_count": null,
      "outputs": []
    },
    {
      "cell_type": "markdown",
      "metadata": {
        "id": "9Ng6Zx9wEl8A"
      },
      "source": [
        "# 1.\n",
        "\n",
        "Complete the body of the following function according to its docstring.\n",
        "\n",
        "HINT: Python has a built-in function `round`."
      ]
    },
    {
      "cell_type": "code",
      "metadata": {
        "execution": {
          "iopub.status.busy": "2021-08-04T18:14:05.816734Z",
          "iopub.execute_input": "2021-08-04T18:14:05.817264Z",
          "iopub.status.idle": "2021-08-04T18:14:05.828378Z",
          "shell.execute_reply.started": "2021-08-04T18:14:05.817209Z",
          "shell.execute_reply": "2021-08-04T18:14:05.827377Z"
        },
        "trusted": true,
        "id": "yeFu1mArEl8B"
      },
      "source": [
        "def round_to_two_places(num):\n",
        "    \"\"\"Return the given number rounded to two decimal places. \n",
        "    \n",
        "    >>> round_to_two_places(3.14159)\n",
        "    3.14\n",
        "    \"\"\"\n",
        "    return round(num,2)\n",
        "\n",
        "# Check your answer\n",
        "q1.check()"
      ],
      "execution_count": null,
      "outputs": []
    },
    {
      "cell_type": "code",
      "metadata": {
        "execution": {
          "iopub.status.busy": "2021-08-04T18:14:09.400333Z",
          "iopub.execute_input": "2021-08-04T18:14:09.400717Z",
          "iopub.status.idle": "2021-08-04T18:14:09.409899Z",
          "shell.execute_reply.started": "2021-08-04T18:14:09.400686Z",
          "shell.execute_reply": "2021-08-04T18:14:09.408703Z"
        },
        "trusted": true,
        "id": "N5jWG2eBEl8B"
      },
      "source": [
        "# Uncomment the following for a hint\n",
        "#q1.hint()\n",
        "# Or uncomment the following to peek at the solution\n",
        "q1.solution()"
      ],
      "execution_count": null,
      "outputs": []
    },
    {
      "cell_type": "markdown",
      "metadata": {
        "id": "UwugkOHuEl8C"
      },
      "source": [
        "# 2.\n",
        "The help for `round` says that `ndigits` (the second argument) may be negative.\n",
        "What do you think will happen when it is? Try some examples in the following cell."
      ]
    },
    {
      "cell_type": "code",
      "metadata": {
        "execution": {
          "iopub.status.busy": "2021-08-04T18:19:17.130105Z",
          "iopub.execute_input": "2021-08-04T18:19:17.130808Z",
          "iopub.status.idle": "2021-08-04T18:19:17.136979Z",
          "shell.execute_reply.started": "2021-08-04T18:19:17.130744Z",
          "shell.execute_reply": "2021-08-04T18:19:17.135846Z"
        },
        "trusted": true,
        "id": "R-b9JqsmEl8D"
      },
      "source": [
        "round(63773852573534,-1)"
      ],
      "execution_count": null,
      "outputs": []
    },
    {
      "cell_type": "markdown",
      "metadata": {
        "id": "Q8cXG9wBEl8E"
      },
      "source": [
        "Can you think of a case where this would be useful?  Once you're ready, run the code cell below to see the answer and to receive credit for completing the problem."
      ]
    },
    {
      "cell_type": "code",
      "metadata": {
        "execution": {
          "iopub.status.busy": "2021-08-04T18:18:11.683175Z",
          "iopub.execute_input": "2021-08-04T18:18:11.683516Z",
          "iopub.status.idle": "2021-08-04T18:18:11.69158Z",
          "shell.execute_reply.started": "2021-08-04T18:18:11.683488Z",
          "shell.execute_reply": "2021-08-04T18:18:11.690431Z"
        },
        "trusted": true,
        "id": "xlBEVgZAEl8F"
      },
      "source": [
        "# Check your answer (Run this code cell to receive credit!)\n",
        "q2.solution()"
      ],
      "execution_count": null,
      "outputs": []
    },
    {
      "cell_type": "markdown",
      "metadata": {
        "id": "bqa7oitWEl8F"
      },
      "source": [
        "# 3.\n",
        "\n",
        "In the previous exercise, the candy-sharing friends Alice, Bob and Carol tried to split candies evenly. For the sake of their friendship, any candies left over would be smashed. For example, if they collectively bring home 91 candies, they'll take 30 each and smash 1.\n",
        "\n",
        "Below is a simple function that will calculate the number of candies to smash for *any* number of total candies.\n",
        "\n",
        "Modify it so that it optionally takes a second argument representing the number of friends the candies are being split between. If no second argument is provided, it should assume 3 friends, as before.\n",
        "\n",
        "Update the docstring to reflect this new behaviour."
      ]
    },
    {
      "cell_type": "code",
      "metadata": {
        "execution": {
          "iopub.status.busy": "2021-08-04T18:21:45.065286Z",
          "iopub.execute_input": "2021-08-04T18:21:45.06579Z",
          "iopub.status.idle": "2021-08-04T18:21:45.073606Z",
          "shell.execute_reply.started": "2021-08-04T18:21:45.065743Z",
          "shell.execute_reply": "2021-08-04T18:21:45.072879Z"
        },
        "trusted": true,
        "id": "5Us2MwXAEl8G"
      },
      "source": [
        "def to_smash(total_candies,n=3):\n",
        "    \"\"\"Return the number of leftover candies that must be smashed after distributing\n",
        "    the given number of candies evenly between 3 friends.\n",
        "    \n",
        "    >>> to_smash(91)\n",
        "    1\n",
        "    \"\"\"\n",
        "    \n",
        "    return total_candies % n\n",
        "\n",
        "# Check your answer\n",
        "q3.check()"
      ],
      "execution_count": null,
      "outputs": []
    },
    {
      "cell_type": "code",
      "metadata": {
        "id": "4d8WrIYMEl8G"
      },
      "source": [
        "#q3.hint()"
      ],
      "execution_count": null,
      "outputs": []
    },
    {
      "cell_type": "code",
      "metadata": {
        "execution": {
          "iopub.status.busy": "2021-08-04T18:21:38.052308Z",
          "iopub.execute_input": "2021-08-04T18:21:38.052717Z",
          "iopub.status.idle": "2021-08-04T18:21:38.062725Z",
          "shell.execute_reply.started": "2021-08-04T18:21:38.052666Z",
          "shell.execute_reply": "2021-08-04T18:21:38.061493Z"
        },
        "trusted": true,
        "id": "Y9nLMi1mEl8H"
      },
      "source": [
        "q3.solution()"
      ],
      "execution_count": null,
      "outputs": []
    },
    {
      "cell_type": "markdown",
      "metadata": {
        "id": "_bSNleEfEl8H"
      },
      "source": [
        "# 4. (Optional)\n",
        "\n",
        "It may not be fun, but reading and understanding error messages will be an important part of your Python career.\n",
        "\n",
        "Each code cell below contains some commented buggy code. For each cell...\n",
        "\n",
        "1. Read the code and predict what you think will happen when it's run.\n",
        "2. Then uncomment the code and run it to see what happens. (**Tip**: In the kernel editor, you can highlight several lines and press `ctrl`+`/` to toggle commenting.)\n",
        "3. Fix the code (so that it accomplishes its intended purpose without throwing an exception)\n",
        "\n",
        "<!-- TODO: should this be autochecked? Delta is probably pretty small. -->"
      ]
    },
    {
      "cell_type": "code",
      "metadata": {
        "execution": {
          "iopub.status.busy": "2021-08-04T18:21:57.077489Z",
          "iopub.execute_input": "2021-08-04T18:21:57.078056Z",
          "iopub.status.idle": "2021-08-04T18:21:57.083787Z",
          "shell.execute_reply.started": "2021-08-04T18:21:57.078017Z",
          "shell.execute_reply": "2021-08-04T18:21:57.082869Z"
        },
        "trusted": true,
        "id": "fJHE3HhFEl8I"
      },
      "source": [
        "round_to_two_places(9.9999)"
      ],
      "execution_count": null,
      "outputs": []
    },
    {
      "cell_type": "code",
      "metadata": {
        "execution": {
          "iopub.status.busy": "2021-08-04T18:24:06.323442Z",
          "iopub.execute_input": "2021-08-04T18:24:06.323989Z",
          "iopub.status.idle": "2021-08-04T18:24:06.329217Z",
          "shell.execute_reply.started": "2021-08-04T18:24:06.323951Z",
          "shell.execute_reply": "2021-08-04T18:24:06.328153Z"
        },
        "trusted": true,
        "id": "lzARifqtEl8I"
      },
      "source": [
        "x = -10\n",
        "y = 5\n",
        "# # Which of the two variables above has the smallest absolute value?\n",
        "smallest_abs = round_to_two_places(abs(x))"
      ],
      "execution_count": null,
      "outputs": []
    },
    {
      "cell_type": "code",
      "metadata": {
        "execution": {
          "iopub.status.busy": "2021-08-04T18:24:32.605209Z",
          "iopub.execute_input": "2021-08-04T18:24:32.605827Z",
          "iopub.status.idle": "2021-08-04T18:24:32.615314Z",
          "shell.execute_reply.started": "2021-08-04T18:24:32.605754Z",
          "shell.execute_reply": "2021-08-04T18:24:32.613379Z"
        },
        "trusted": true,
        "id": "mBwklJYMEl8J"
      },
      "source": [
        "def f(x):\n",
        "    y = abs(x)\n",
        "    return y\n",
        "\n",
        "print(f(5))"
      ],
      "execution_count": null,
      "outputs": []
    },
    {
      "cell_type": "markdown",
      "metadata": {
        "id": "kjKne6JkEl8J"
      },
      "source": [
        "# Keep Going\n",
        "\n",
        "Nice job with the code. Next up, you'll learn about *conditionals*, which you'll need to **[write interesting programs](https://www.kaggle.com/colinmorris/booleans-and-conditionals)**. "
      ]
    },
    {
      "cell_type": "markdown",
      "metadata": {
        "id": "coTDtmxHEl8J"
      },
      "source": [
        "---\n",
        "\n",
        "\n",
        "\n",
        "\n",
        "*Have questions or comments? Visit the [Learn Discussion forum](https://www.kaggle.com/learn-forum/161283) to chat with other Learners.*"
      ]
    }
  ]
}